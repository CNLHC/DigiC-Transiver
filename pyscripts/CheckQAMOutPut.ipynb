{
 "cells": [
  {
   "cell_type": "code",
   "execution_count": 40,
   "metadata": {},
   "outputs": [],
   "source": [
    "#Trigger Settting: packetsymbolwidthadapter|asi_in0_valid Either Edge\n",
    "import numpy as np\n",
    "import matplotlib.pyplot as plt\n",
    "import functools\n",
    "import csv\n",
    "from bitstring import BitArray\n"
   ]
  },
  {
   "cell_type": "code",
   "execution_count": null,
   "metadata": {},
   "outputs": [],
   "source": [
    "def ConstellationDeMapping(duo):\n",
    "    if duo=='01':\n",
    "        return ''\n",
    "    "
   ]
  },
  {
   "cell_type": "code",
   "execution_count": 46,
   "metadata": {},
   "outputs": [],
   "source": [
    "def QAMDeDemodulation(real,imag):\n",
    "    bitstream=[]\n",
    "    for r,i in zip(real,imag):\n",
    "        if(r>0 and i>0):\n",
    "            bitstream.append('00')\n",
    "        elif (r<0 and i>0):\n",
    "            bitstream.append('01')\n",
    "        elif (r<0 and i<0):\n",
    "            bitstream.append('11')\n",
    "        elif (r>0 and i<0):\n",
    "            bitstream.append('10')\n",
    "    return ''.join(bitstream)"
   ]
  },
  {
   "cell_type": "code",
   "execution_count": 50,
   "metadata": {},
   "outputs": [
    {
     "name": "stdout",
     "output_type": "stream",
     "text": [
      "0x2d951c8477fb73ea2d951c8477fb73ea2d951c8477fb73ea2d951c8477fb73ea2d951c8477fb73ea2d951c8477fb73ea2d951c8477fb73ea2d951c8477fb73ea\n"
     ]
    }
   ],
   "source": [
    "with open('./QAMOutput.csv','r') as fp:\n",
    "    csvBuffer = list(csv.reader(fp))\n",
    "    data = np.array(csvBuffer[0][::3],dtype='int64')\n",
    "    binaryDump = [ np.binary_repr(int(i),width=64) for i in data]\n",
    "    #print(binaryDump)\n",
    "    bitstream = functools.reduce(lambda x,y:x+y,binaryDump,'')\n",
    "    bitstream = [bitstream[i:i+2] for i in range(0, len(bitstream), 2)]\n",
    "    bitstream = [bitstream[i:i+2] for i in range(0, len(bitstream), 2)]\n",
    "    #print(bitstream)\n",
    "    real= [BitArray(bin=i[0]).int for i in bitstream]\n",
    "    imag= [BitArray(bin=i[1]).int for i in bitstream]\n",
    "    demodOut = QAMDeDemodulation(real,imag)\n",
    "    print(hex(int(demodOut,2)))"
   ]
  },
  {
   "cell_type": "code",
   "execution_count": null,
   "metadata": {},
   "outputs": [],
   "source": []
  }
 ],
 "metadata": {
  "kernelspec": {
   "display_name": "Python 3",
   "language": "python",
   "name": "python3"
  },
  "language_info": {
   "codemirror_mode": {
    "name": "ipython",
    "version": 3
   },
   "file_extension": ".py",
   "mimetype": "text/x-python",
   "name": "python",
   "nbconvert_exporter": "python",
   "pygments_lexer": "ipython3",
   "version": "3.7.0"
  }
 },
 "nbformat": 4,
 "nbformat_minor": 2
}
