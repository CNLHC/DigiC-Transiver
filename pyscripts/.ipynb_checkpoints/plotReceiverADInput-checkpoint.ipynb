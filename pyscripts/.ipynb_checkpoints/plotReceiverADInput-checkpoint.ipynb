{
 "cells": [
  {
   "cell_type": "code",
   "execution_count": 5,
   "metadata": {},
   "outputs": [],
   "source": [
    "#Trigger-Setting ofdmfft|source_sop either edge\n",
    "import numpy as np  \n",
    "import matplotlib.pyplot as plt\n",
    "plt.rcParams['figure.figsize']=[10,10]\n",
    "import csv\n",
    "import CommonScript as cs"
   ]
  },
  {
   "cell_type": "code",
   "execution_count": null,
   "metadata": {},
   "outputs": [],
   "source": [
    "with open('./ReceiverADInput.csv','r') as fp:\n",
    "    csvBuffer=list(csv.reader(fp))\n",
    "    plt.figure(figsize=(10,10))\n",
    "    plt.subplot(211)\n",
    "    real = np.array(csvBuffer[0],dtype=int)[0::3]\n",
    "    imag = np.array(csvBuffer[1],dtype=int)[0::3]\n",
    "    plt.plot(np.linspace(1,256,256),real,'-')\n",
    "    plt.title('fpga ifft of 0x12345678...pattern:real ')\n",
    "    plt.subplot(212)\n",
    "    plt.plot(np.linspace(1,256,256),imag,'-')\n",
    "    plt.title('fpga ifft of 0x12345678...pattern:imag ')\n"
   ]
  }
 ],
 "metadata": {
  "kernelspec": {
   "display_name": "Python 3",
   "language": "python",
   "name": "python3"
  },
  "language_info": {
   "codemirror_mode": {
    "name": "ipython",
    "version": 3
   },
   "file_extension": ".py",
   "mimetype": "text/x-python",
   "name": "python",
   "nbconvert_exporter": "python",
   "pygments_lexer": "ipython3",
   "version": "3.7.0"
  }
 },
 "nbformat": 4,
 "nbformat_minor": 2
}
