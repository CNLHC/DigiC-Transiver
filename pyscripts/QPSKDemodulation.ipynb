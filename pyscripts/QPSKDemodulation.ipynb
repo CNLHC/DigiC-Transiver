{
 "cells": [
  {
   "cell_type": "code",
   "execution_count": 13,
   "metadata": {},
   "outputs": [],
   "source": [
    "import numpy as np\n",
    "import functools"
   ]
  },
  {
   "cell_type": "code",
   "execution_count": 6,
   "metadata": {},
   "outputs": [],
   "source": [
    "def ConstellationMapping(duo):\n",
    "    if duo=='00':\n",
    "        return '0101'\n",
    "    elif duo=='01':\n",
    "        return '1101'\n",
    "    elif duo=='11':\n",
    "        return '1111'\n",
    "    elif duo=='10':\n",
    "        return '0111'"
   ]
  },
  {
   "cell_type": "code",
   "execution_count": 16,
   "metadata": {},
   "outputs": [
    {
     "name": "stdout",
     "output_type": "stream",
     "text": [
      "00010010001101000101011001111000\n",
      "['00', '01', '00', '10', '00', '11', '01', '00', '01', '01', '01', '10', '01', '11', '10', '00']\n",
      "['0101', '1101', '0101', '0111', '0101', '1111', '1101', '0101', '1101', '1101', '1101', '0111', '1101', '1111', '0111', '0101']\n",
      "0101110101010111010111111101010111011101110101111101111101110101\n",
      "0x5d575fd5ddd7df75\n"
     ]
    }
   ],
   "source": [
    "Payload = 0x12345678\n",
    "bitin = np.binary_repr(Payload,width=32)\n",
    "print(bitin)\n",
    "bitin = [bitin[i:i+2] for i in range(0,len(bitin),2)]\n",
    "print(bitin)\n",
    "modOut = [ConstellationMapping(i) for i in bitin]\n",
    "print(modOut)\n",
    "modOut =functools.reduce(lambda x,y:x+y,modOut,'')\n",
    "print(modOut)\n",
    "print(hex(int(modOut,2)))\n"
   ]
  }
 ],
 "metadata": {
  "kernelspec": {
   "display_name": "Python 3",
   "language": "python",
   "name": "python3"
  },
  "language_info": {
   "codemirror_mode": {
    "name": "ipython",
    "version": 3
   },
   "file_extension": ".py",
   "mimetype": "text/x-python",
   "name": "python",
   "nbconvert_exporter": "python",
   "pygments_lexer": "ipython3",
   "version": "3.7.0"
  }
 },
 "nbformat": 4,
 "nbformat_minor": 2
}
